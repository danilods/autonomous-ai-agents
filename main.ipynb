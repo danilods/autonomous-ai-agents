{
 "cells": [
  {
   "cell_type": "code",
   "execution_count": 5,
   "metadata": {},
   "outputs": [
    {
     "ename": "ImportError",
     "evalue": "cannot import name 'Task' from 'langchain.agents' (/home/ti/rota/autonomous-ai-agents/env/lib/python3.10/site-packages/langchain/agents/__init__.py)",
     "output_type": "error",
     "traceback": [
      "\u001b[0;31m---------------------------------------------------------------------------\u001b[0m",
      "\u001b[0;31mImportError\u001b[0m                               Traceback (most recent call last)",
      "Cell \u001b[0;32mIn[5], line 4\u001b[0m\n\u001b[1;32m      2\u001b[0m \u001b[38;5;28;01mimport\u001b[39;00m \u001b[38;5;21;01mnumpy\u001b[39;00m \u001b[38;5;28;01mas\u001b[39;00m \u001b[38;5;21;01mnp\u001b[39;00m\n\u001b[1;32m      3\u001b[0m \u001b[38;5;28;01mimport\u001b[39;00m \u001b[38;5;21;01mmatplotlib\u001b[39;00m\u001b[38;5;21;01m.\u001b[39;00m\u001b[38;5;21;01mpyplot\u001b[39;00m \u001b[38;5;28;01mas\u001b[39;00m \u001b[38;5;21;01mplt\u001b[39;00m\n\u001b[0;32m----> 4\u001b[0m \u001b[38;5;28;01mfrom\u001b[39;00m \u001b[38;5;21;01mlangchain\u001b[39;00m\u001b[38;5;21;01m.\u001b[39;00m\u001b[38;5;21;01magents\u001b[39;00m \u001b[38;5;28;01mimport\u001b[39;00m Agent, Task\n\u001b[1;32m      5\u001b[0m \u001b[38;5;28;01mfrom\u001b[39;00m \u001b[38;5;21;01mlangchain\u001b[39;00m\u001b[38;5;21;01m.\u001b[39;00m\u001b[38;5;21;01mgraph\u001b[39;00m \u001b[38;5;28;01mimport\u001b[39;00m Graph\n\u001b[1;32m      6\u001b[0m \u001b[38;5;28;01mfrom\u001b[39;00m \u001b[38;5;21;01msklearn\u001b[39;00m\u001b[38;5;21;01m.\u001b[39;00m\u001b[38;5;21;01mmodel_selection\u001b[39;00m \u001b[38;5;28;01mimport\u001b[39;00m train_test_split\n",
      "\u001b[0;31mImportError\u001b[0m: cannot import name 'Task' from 'langchain.agents' (/home/ti/rota/autonomous-ai-agents/env/lib/python3.10/site-packages/langchain/agents/__init__.py)"
     ]
    }
   ],
   "source": [
    "import pandas as pd\n",
    "import numpy as np\n",
    "import matplotlib.pyplot as plt\n",
    "from sklearn.model_selection import train_test_split\n",
    "from sklearn.ensemble import RandomForestRegressor\n"
   ]
  },
  {
   "cell_type": "code",
   "execution_count": null,
   "metadata": {},
   "outputs": [],
   "source": [
    "# Gerando dataset simulado\n",
    "np.random.seed(42)\n",
    "dates = pd.date_range(start='2023-01-01', periods=180, freq='D')\n",
    "produto_ids = [f\"produto_{i}\" for i in range(1, 6)]\n",
    "setores = ['Setor 01', 'Setor 02', 'Setor 03']\n",
    "prateleiras = ['Prateleira X', 'Prateleira Y', 'Prateleira Z']\n",
    "data = []\n",
    "\n",
    "for produto in produto_ids:\n",
    "    vendas = np.random.poisson(lam=20, size=len(dates))\n",
    "    estoque = np.random.poisson(lam=50, size=len(dates))\n",
    "    validade = pd.date_range(start='2023-06-01', periods=len(dates), freq='D') + pd.to_timedelta(np.random.randint(1, 180), unit='D')\n",
    "    localizacao = [(np.random.choice(setores), np.random.choice(prateleiras)) for _ in range(len(dates))]\n",
    "    data.extend(zip(dates, [produto]*len(dates), vendas, estoque, validade, localizacao))\n",
    "\n",
    "df = pd.DataFrame(data, columns=['data', 'produto_id', 'vendas', 'estoque', 'validade', 'localizacao'])\n",
    "\n",
    "df[['setor', 'prateleira']] = pd.DataFrame(df['localizacao'].tolist(), index=df.index)\n",
    "df = df.drop(columns=['localizacao'])\n",
    "\n",
    "df.to_csv('vendas_simuladas_expandido.csv', index=False)\n",
    "\n",
    "# Visualizando o dataset\n",
    "df.head()"
   ]
  },
  {
   "cell_type": "code",
   "execution_count": null,
   "metadata": {},
   "outputs": [],
   "source": [
    "##############\n",
    "df = pd.read_csv('vendas_simuladas_expandido.csv')\n",
    "df['data'] = pd.to_datetime(df['data'])\n",
    "df['validade'] = pd.to_datetime(df['validade'])"
   ]
  },
  {
   "cell_type": "code",
   "execution_count": null,
   "metadata": {},
   "outputs": [],
   "source": [
    "# Função para preprocessar dados\n",
    "def preprocess_data(df, produto_id):\n",
    "    df_produto = df[df['produto_id'] == produto_id]\n",
    "    df_produto = df_produto.set_index('data').asfreq('D').fillna(method='ffill')\n",
    "    return df_produto\n",
    "\n",
    "produto_id = 'produto_1'\n",
    "df_produto = preprocess_data(df, produto_id)\n",
    "\n",
    "df_produto.head()"
   ]
  },
  {
   "cell_type": "code",
   "execution_count": null,
   "metadata": {},
   "outputs": [],
   "source": [
    "###################\n",
    "\n",
    "df = pd.read_csv('vendas_simuladas_expandido.csv')\n",
    "df['data'] = pd.to_datetime(df['data'])\n",
    "df['validade'] = pd.to_datetime(df['validade'])\n",
    "\n",
    "# Função para preprocessar dados\n",
    "def preprocess_data(df, produto_id):\n",
    "    df_produto = df[df['produto_id'] == produto_id]\n",
    "    df_produto = df_produto.set_index('data').asfreq('D').fillna(method='ffill')\n",
    "    return df_produto\n",
    "\n",
    "produto_id = 'produto_1'\n",
    "df_produto = preprocess_data(df, produto_id)\n",
    "\n",
    "df_produto.head()"
   ]
  },
  {
   "cell_type": "code",
   "execution_count": null,
   "metadata": {},
   "outputs": [],
   "source": [
    "############\n",
    "\n",
    "# Feature engineering\n",
    "df_produto['dia_da_semana'] = df_produto.index.dayofweek\n",
    "df_produto['dia_do_mes'] = df_produto.index.day\n",
    "df_produto['mes'] = df_produto.index.month\n",
    "\n",
    "X = df_produto[['estoque', 'dia_da_semana', 'dia_do_mes', 'mes']]\n",
    "y = df_produto['vendas']\n",
    "\n",
    "X_train, X_test, y_train, y_test = train_test_split(X, y, test_size=0.2, shuffle=False)"
   ]
  },
  {
   "cell_type": "code",
   "execution_count": null,
   "metadata": {},
   "outputs": [],
   "source": [
    "# Treinando o modelo\n",
    "modelo = RandomForestRegressor(n_estimators=100, random_state=42)\n",
    "modelo.fit(X_train, y_train)\n"
   ]
  },
  {
   "cell_type": "code",
   "execution_count": null,
   "metadata": {},
   "outputs": [],
   "source": [
    "# Avaliando o modelo\n",
    "y_pred = modelo.predict(X_test)\n",
    "\n",
    "plt.figure(figsize=(10, 5))\n",
    "plt.plot(y_test.index, y_test, label='Vendas Reais')\n",
    "plt.plot(y_test.index, y_pred, label='Previsões de Vendas')\n",
    "plt.legend()\n",
    "plt.show()\n"
   ]
  },
  {
   "cell_type": "code",
   "execution_count": null,
   "metadata": {},
   "outputs": [],
   "source": [
    "#############\n",
    "# Previsão para os próximos 30 dias\n",
    "futuro = pd.date_range(start=df_produto.index[-1] + pd.Timedelta(days=1), periods=30, freq='D')\n",
    "futuro_df = pd.DataFrame(futuro, columns=['data'])\n",
    "futuro_df['estoque'] = np.random.poisson(lam=50, size=len(futuro))\n",
    "futuro_df['dia_da_semana'] = futuro_df['data'].dt.dayofweek\n",
    "futuro_df['dia_do_mes'] = futuro_df['data'].dt.day\n",
    "futuro_df['mes'] = futuro_df['data'].dt.month\n",
    "\n",
    "X_futuro = futuro_df[['estoque', 'dia_da_semana', 'dia_do_mes', 'mes']]\n",
    "futuro_df['vendas_previstas'] = modelo.predict(X_futuro)"
   ]
  },
  {
   "cell_type": "code",
   "execution_count": null,
   "metadata": {},
   "outputs": [],
   "source": [
    "# Notificação aos fornecedores\n",
    "futuro_df['ajuste_estoque'] = futuro_df['vendas_previstas'] * 1.2  # Ajuste de 20% acima da previsão"
   ]
  },
  {
   "cell_type": "code",
   "execution_count": null,
   "metadata": {},
   "outputs": [],
   "source": [
    "# Exibir decisões\n",
    "futuro_df[['data', 'vendas_previstas', 'ajuste_estoque']].head()"
   ]
  },
  {
   "cell_type": "code",
   "execution_count": null,
   "metadata": {},
   "outputs": [],
   "source": [
    "#########\n",
    "\n",
    "# Produtos prestes a vencer\n",
    "hoje = pd.Timestamp.today()\n",
    "validade_alerta = hoje + pd.Timedelta(days=30)  # Alerta para produtos que vencem nos próximos 30 dias\n",
    "\n",
    "df_validade = df_produto[df_produto['validade'] <= validade_alerta]\n",
    "df_validade = df_validade[['validade', 'estoque', 'setor', 'prateleira']]"
   ]
  },
  {
   "cell_type": "code",
   "execution_count": null,
   "metadata": {},
   "outputs": [],
   "source": [
    "# Exibir produtos prestes a vencer\n",
    "df_validade.head()"
   ]
  },
  {
   "cell_type": "code",
   "execution_count": null,
   "metadata": {},
   "outputs": [],
   "source": [
    "# Definindo a tarefa de previsão de demanda\n",
    "class PrevisaoDemanda(Task):\n",
    "    def run(self, dados):\n",
    "        produto_id = dados.get('produto_id', 'produto_1')\n",
    "        df_produto = preprocess_data(df, produto_id)\n",
    "        futuro_df['vendas_previstas'] = modelo.predict(X_futuro)\n",
    "        futuro_df['ajuste_estoque'] = futuro_df['vendas_previstas'] * 1.2\n",
    "        return futuro_df[['data', 'vendas_previstas', 'ajuste_estoque']].to_dict()"
   ]
  },
  {
   "cell_type": "code",
   "execution_count": null,
   "metadata": {},
   "outputs": [],
   "source": [
    "# Definindo a tarefa de notificação a fornecedores\n",
    "class NotificacaoFornecedores(Task):\n",
    "    def run(self, dados):\n",
    "        produto_id = dados.get('produto_id', 'produto_1')\n",
    "        futuro_df = dados.get('futuro_df')\n",
    "        produtos_faltando = futuro_df[futuro_df['ajuste_estoque'] > futuro_df['estoque']]\n",
    "        return produtos_faltando[['data', 'ajuste_estoque']].to_dict()"
   ]
  },
  {
   "cell_type": "code",
   "execution_count": null,
   "metadata": {},
   "outputs": [],
   "source": [
    "# Definindo a tarefa de gestão de estoque\n",
    "class GestaoEstoque(Task):\n",
    "    def run(self, dados):\n",
    "        produto_id = dados.get('produto_id', 'produto_1')\n",
    "        df_produto = preprocess_data(df, produto_id)\n",
    "        hoje = pd.Timestamp.today()\n",
    "        validade_alerta = hoje + pd.Timedelta(days=30)\n",
    "        df_validade = df_produto[df_produto['validade'] <= validade_alerta]\n",
    "        return df_validade[['validade', 'estoque', 'setor', 'prateleira']].to_dict()"
   ]
  },
  {
   "cell_type": "code",
   "execution_count": null,
   "metadata": {},
   "outputs": [],
   "source": [
    "from langchain.agents import create_agent, agent_executor\n",
    "from langchain.graph import Graph"
   ]
  },
  {
   "cell_type": "code",
   "execution_count": null,
   "metadata": {},
   "outputs": [],
   "source": [
    "# Criando os agentes\n",
    "agente_previsao = create_agent(\"Agente de Previsão de Demanda\", previsao_demanda)\n",
    "agente_fornecedores = create_agent(\"Agente de Notificação a Fornecedores\", notificacao_fornecedores)\n",
    "agente_estoque = create_agent(\"Agente de Gestão de Estoque\", gestao_estoque)\n"
   ]
  },
  {
   "cell_type": "code",
   "execution_count": null,
   "metadata": {},
   "outputs": [],
   "source": [
    "# Definindo o fluxo no LangGraph\n",
    "grafo = Graph(name=\"Fluxo de Previsão e Gestão de Estoque\")\n",
    "grafo.add_node(agente_previsao)\n",
    "grafo.add_node(agente_fornecedores)\n",
    "grafo.add_node(agente_estoque)\n"
   ]
  },
  {
   "cell_type": "code",
   "execution_count": null,
   "metadata": {},
   "outputs": [],
   "source": [
    "# Executando a previsão e notificações\n",
    "resultado_previsao = agent_executor(agente_previsao, {'produto_id': 'produto_1'})\n",
    "resultado_notificacao = agent_executor(agente_fornecedores, {'futuro_df': resultado_previsao})\n",
    "resultado_estoque = agent_executor(agente_estoque, {'produto_id': 'produto_1'})"
   ]
  },
  {
   "cell_type": "code",
   "execution_count": null,
   "metadata": {},
   "outputs": [],
   "source": [
    "print(\"Previsão de Demanda:\", resultado_previsao)\n",
    "print(\"Notificação a Fornecedores:\", resultado_notificacao)\n",
    "print(\"Gestão de Estoque:\", resultado_estoque)\n"
   ]
  }
 ],
 "metadata": {
  "kernelspec": {
   "display_name": "env",
   "language": "python",
   "name": "python3"
  },
  "language_info": {
   "codemirror_mode": {
    "name": "ipython",
    "version": 3
   },
   "file_extension": ".py",
   "mimetype": "text/x-python",
   "name": "python",
   "nbconvert_exporter": "python",
   "pygments_lexer": "ipython3",
   "version": "3.10.12"
  }
 },
 "nbformat": 4,
 "nbformat_minor": 2
}
